{
 "cells": [
  {
   "cell_type": "markdown",
   "id": "76e5d30c-d581-4d37-a89d-f777ce67f92b",
   "metadata": {},
   "source": [
    "# RAG - Retrival Augumented Generation \n",
    "## what the hell is it ?\n",
    "> * RAG is an advanced form of information retrieval (IR) mechanism.\n",
    "> * Your task, is to retrieve relevant information from a dataset for your query.\n",
    "> * Here, the query and an array of documents (documents) is converted into embeddings and then pooled into single vector , post that using cosine similarity search we are retrieving the top most n documents\n",
    "    \n"
   ]
  },
  {
   "cell_type": "code",
   "execution_count": null,
   "id": "baaa12a2-ebd3-4401-836d-0c8298c44184",
   "metadata": {},
   "outputs": [],
   "source": []
  }
 ],
 "metadata": {
  "kernelspec": {
   "display_name": "Python 3 (ipykernel)",
   "language": "python",
   "name": "python3"
  },
  "language_info": {
   "codemirror_mode": {
    "name": "ipython",
    "version": 3
   },
   "file_extension": ".py",
   "mimetype": "text/x-python",
   "name": "python",
   "nbconvert_exporter": "python",
   "pygments_lexer": "ipython3",
   "version": "3.12.4"
  }
 },
 "nbformat": 4,
 "nbformat_minor": 5
}
