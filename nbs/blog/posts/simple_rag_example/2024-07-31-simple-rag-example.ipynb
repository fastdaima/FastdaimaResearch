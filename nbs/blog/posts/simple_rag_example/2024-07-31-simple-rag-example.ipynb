{
 "cells": [
  {
   "cell_type": "raw",
   "id": "de870fac-5c67-4726-9c5c-24703219152b",
   "metadata": {},
   "source": [
    "---\n",
    "title: RAG - Basic RAG using llama3, langchain and chromadb\n",
    "author: fastdaima\n",
    "date: '2024-07-31'\n",
    "description: A primer about RAG's\n",
    "\n",
    "categories:\n",
    "- embedding\n",
    "- RAG\n",
    "\n",
    "toc: true\n",
    "hide: false\n",
    "search: true\n",
    "\n",
    "---\n",
    "\n"
   ]
  },
  {
   "cell_type": "markdown",
   "id": "58fef616-206c-46c9-a4db-fd84f0573330",
   "metadata": {},
   "source": [
    "## what the hell is it ?\n",
    " * RAG is an advanced form of information retrieval (IR) mechanism.\n",
    " * Information retrieval, is the process of retrieving relevant information from a dataset for your query.\n",
    "\n",
    "## How basic RAG works in a nutshell\n",
    "* Input: Query and Array of documents (dataset)\n",
    "* Output: Top N relevant documents\n",
    "* RAG uses Bi-Encoder encoding and cosine similarity search to retrieve top n documents\n",
    "* first, query is converted into embeddings (floating point representation) i.e) array of vectors, and then pooled together into single vector say Q\n",
    "* second, input documents array, here each document in the array is converted into embeddings (floating point representation) i.e) array of vectors, and then pooled together into single vector say Docs \n",
    "* then, cosine similarity search is taken between the Q and each document vector in Docs say cosine_similarity_score_list, and it is sorted in descending manner\n",
    "* Top n docs is returned from cosine_similarity_score_list as relevant documents"
   ]
  },
  {
   "cell_type": "raw",
   "id": "ca20db58-81ee-40e3-9e12-00527f4b5883",
   "metadata": {},
   "source": []
  },
  {
   "cell_type": "code",
   "execution_count": 1,
   "id": "bdbad10d-381b-4e2c-94c6-5cd4864536ab",
   "metadata": {},
   "outputs": [],
   "source": []
  },
  {
   "cell_type": "code",
   "execution_count": null,
   "id": "47fdb1e7-6bae-4750-b7f7-2a43481ef10a",
   "metadata": {},
   "outputs": [],
   "source": []
  }
 ],
 "metadata": {
  "kernelspec": {
   "display_name": "Python 3 (ipykernel)",
   "language": "python",
   "name": "python3"
  },
  "language_info": {
   "codemirror_mode": {
    "name": "ipython",
    "version": 3
   },
   "file_extension": ".py",
   "mimetype": "text/x-python",
   "name": "python",
   "nbconvert_exporter": "python",
   "pygments_lexer": "ipython3",
   "version": "3.12.4"
  }
 },
 "nbformat": 4,
 "nbformat_minor": 5
}
