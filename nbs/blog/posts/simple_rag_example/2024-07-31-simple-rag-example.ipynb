{
 "cells": [
  {
   "cell_type": "markdown",
   "id": "25cb452f-4ebe-4f31-860a-8568473c4730",
   "metadata": {},
   "source": [
    "# RAG - Retrival Augumented Generation "
   ]
  },
  {
   "cell_type": "markdown",
   "id": "58fef616-206c-46c9-a4db-fd84f0573330",
   "metadata": {},
   "source": [
    "## what the hell is it ?\n",
    " * RAG is an advanced form of information retrieval (IR) mechanism.\n",
    " * Information retrieval, is the process of retrieving relevant information from a dataset for your query.\n",
    "\n",
    "## How basic RAG works in a nutshell\n",
    "* Input: Query and Array of documents (dataset)\n",
    "* Output: Top N relevant documents\n",
    "* RAG uses Bi-Encoder encoding and cosine similarity search to retrieve top n documents\n",
    "* first, query is converted into embeddings (floating point representation) i.e) array of vectors, and then pooled together into single vector say Q\n",
    "* second, input documents array, here each document in the array is converted into embeddings (floating point representation) i.e) array of vectors, and then pooled together into single vector say Docs \n",
    "* then, cosine similarity search is taken between the Q and each document vector in Docs say cosine_similarity_score_list, and it is sorted in descending manner\n",
    "* Top n docs is returned from cosine_similarity_score_list as relevant documents"
   ]
  },
  {
   "cell_type": "code",
   "execution_count": null,
   "id": "baaa12a2-ebd3-4401-836d-0c8298c44184",
   "metadata": {},
   "outputs": [],
   "source": [
    "import time"
   ]
  },
  {
   "cell_type": "code",
   "execution_count": null,
   "id": "bdbad10d-381b-4e2c-94c6-5cd4864536ab",
   "metadata": {},
   "outputs": [],
   "source": []
  }
 ],
 "metadata": {
  "kernelspec": {
   "display_name": "python3",
   "language": "python",
   "name": "python3"
  }
 },
 "nbformat": 4,
 "nbformat_minor": 5
}
