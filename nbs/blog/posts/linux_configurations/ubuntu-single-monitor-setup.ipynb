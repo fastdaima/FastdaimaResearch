{
 "cells": [
  {
   "cell_type": "markdown",
   "id": "9fb5560d-531e-4862-92f7-a70ac82aad33",
   "metadata": {},
   "source": [
    "---\n",
    "title: How to setup ubuntu to not shutdown when closing the lid, while connected to an external monitor\n",
    "author: fastdaima\n",
    "date: '2024-12-04'\n",
    "description: linux setup configs\n",
    "\n",
    "categories:\n",
    "- linux\n",
    "- Upower.conf\n",
    "\n",
    "toc: true\n",
    "hide: false\n",
    "search: true\n",
    "\n",
    "---\n"
   ]
  },
  {
   "cell_type": "markdown",
   "id": "31fb288b-650d-4aa6-afa2-66665d86efae",
   "metadata": {},
   "source": [
    "## How to do it\n",
    "- When connecting an laptop to an monitor and if you want to only show display on the external monitor, you tend to close the laptop lid.\n",
    "- By default, ubuntu shutsdown the system / goes into hibernation mode.\n",
    "- This can be avoided by changing a config in /etc/UPower/UPower.conf.\n",
    "- open in your favourite text editor, since its a system file, you need an root access say `sudo vim /etc/UPower/UPower.conf`\n",
    "- search for `IgnoreLid` and make it to true like: `IgnoreLid=True` and save it\n",
    "- reload the power service by, `sudo service upower restart`\n",
    "  "
   ]
  },
  {
   "cell_type": "markdown",
   "id": "27d7f3be-9997-45df-a58d-c10083c01d8e",
   "metadata": {},
   "source": [
    "###### "
   ]
  }
 ],
 "metadata": {
  "kernelspec": {
   "display_name": "Python 3 (ipykernel)",
   "language": "python",
   "name": "python3"
  },
  "language_info": {
   "codemirror_mode": {
    "name": "ipython",
    "version": 3
   },
   "file_extension": ".py",
   "mimetype": "text/x-python",
   "name": "python",
   "nbconvert_exporter": "python",
   "pygments_lexer": "ipython3",
   "version": "3.10.13"
  }
 },
 "nbformat": 4,
 "nbformat_minor": 5
}
